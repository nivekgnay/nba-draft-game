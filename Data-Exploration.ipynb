{
 "cells": [
  {
   "cell_type": "code",
   "execution_count": null,
   "metadata": {
    "collapsed": true
   },
   "outputs": [],
   "source": [
    "import requests\n",
    "import sqlite3\n",
    "import pandas as pd"
   ]
  },
  {
   "cell_type": "code",
   "execution_count": null,
   "metadata": {
    "collapsed": false
   },
   "outputs": [],
   "source": [
    "def get_all_stats():\n",
    "    url = \"https://stats.nba.com/stats/leaguedashplayerstats?College=&Conference=&Country=&DateFrom=&DateTo=&Division=&DraftPick=&DraftYear=&GameScope=&GameSegment=&Height=&LastNGames=0&LeagueID=00&Location=&MeasureType=Base&Month=0&OpponentTeamID=0&Outcome=&PORound=0&PaceAdjust=N&PerMode=PerGame&Period=0&PlayerExperience=&PlayerPosition=&PlusMinus=N&Rank=N&Season=2017-18&SeasonSegment=&SeasonType=Regular+Season&ShotClockRange=&StarterBench=&TeamID=0&VsConference=&VsDivision=&Weight=\"\n",
    "    \n",
    "#     headers = {'User-Agent': 'Mozilla/5.0 (Macintosh; Intel Mac OS X 10.10; rv:39.0) Gecko/20100101 Firefox/39.0'}\n",
    "    headers = {'User-Agent': 'Mozilla/5.0 (X11; Linux x86_64) AppleWebKit/537.36 (KHTML, like Gecko) Chrome/48.0.2564.82 Safari/537.36'}\n",
    "    response = requests.get(url, headers = headers)\n",
    "    response.raise_for_status() # Raise exception if invalid response\n",
    "    response_json = response.json()\n",
    "    player_list = response_json['resultSets'][0]['rowSet']\n",
    "    attr_header = response_json['resultSets'][0]['headers']\n",
    "    \n",
    "    return (player_list, attr_header)"
   ]
  },
  {
   "cell_type": "code",
   "execution_count": null,
   "metadata": {
    "collapsed": false
   },
   "outputs": [],
   "source": [
    "player_list, attr_header = get_all_stats()\n",
    "print attr_header"
   ]
  },
  {
   "cell_type": "code",
   "execution_count": null,
   "metadata": {
    "collapsed": false
   },
   "outputs": [],
   "source": [
    "index_mapping = {}\n",
    "for i in xrange(len(attr_header)):\n",
    "    index_mapping[attr_header[i]] = i\n",
    "\n",
    "dict_list = []\n",
    "for player in player_list:\n",
    "    new_dict = {}\n",
    "    for i in xrange(len(attr_header)):\n",
    "        new_dict[attr_header[i]] = player[i]\n",
    "    dict_list.append(new_dict)\n",
    "\n",
    "df = pd.DataFrame(dict_list)\n",
    "    "
   ]
  },
  {
   "cell_type": "code",
   "execution_count": null,
   "metadata": {
    "collapsed": false
   },
   "outputs": [],
   "source": [
    "df.to_pickle('stats_df.pickle')"
   ]
  },
  {
   "cell_type": "code",
   "execution_count": 43,
   "metadata": {
    "collapsed": false
   },
   "outputs": [
    {
     "data": {
      "text/plain": [
       "Index([u'AGE', u'AST', u'AST_RANK', u'BLK', u'BLKA', u'BLKA_RANK', u'BLK_RANK',\n",
       "       u'CFID', u'CFPARAMS', u'DD2', u'DD2_RANK', u'DREB', u'DREB_RANK',\n",
       "       u'FG3A', u'FG3A_RANK', u'FG3M', u'FG3M_RANK', u'FG3_PCT',\n",
       "       u'FG3_PCT_RANK', u'FGA', u'FGA_RANK', u'FGM', u'FGM_RANK', u'FG_PCT',\n",
       "       u'FG_PCT_RANK', u'FTA', u'FTA_RANK', u'FTM', u'FTM_RANK', u'FT_PCT',\n",
       "       u'FT_PCT_RANK', u'GP', u'GP_RANK', u'L', u'L_RANK', u'MIN', u'MIN_RANK',\n",
       "       u'NBA_FANTASY_PTS', u'NBA_FANTASY_PTS_RANK', u'OREB', u'OREB_RANK',\n",
       "       u'PF', u'PFD', u'PFD_RANK', u'PF_RANK', u'PLAYER_ID', u'PLAYER_NAME',\n",
       "       u'PLUS_MINUS', u'PLUS_MINUS_RANK', u'PTS', u'PTS_RANK', u'REB',\n",
       "       u'REB_RANK', u'STL', u'STL_RANK', u'TD3', u'TD3_RANK',\n",
       "       u'TEAM_ABBREVIATION', u'TEAM_ID', u'TOV', u'TOV_RANK', u'W', u'W_PCT',\n",
       "       u'W_PCT_RANK', u'W_RANK'],\n",
       "      dtype='object')"
      ]
     },
     "execution_count": 43,
     "metadata": {},
     "output_type": "execute_result"
    }
   ],
   "source": [
    "df.columns"
   ]
  },
  {
   "cell_type": "code",
   "execution_count": null,
   "metadata": {
    "collapsed": true
   },
   "outputs": [],
   "source": []
  }
 ],
 "metadata": {
  "kernelspec": {
   "display_name": "Python [Root]",
   "language": "python",
   "name": "Python [Root]"
  },
  "language_info": {
   "codemirror_mode": {
    "name": "ipython",
    "version": 2
   },
   "file_extension": ".py",
   "mimetype": "text/x-python",
   "name": "python",
   "nbconvert_exporter": "python",
   "pygments_lexer": "ipython2",
   "version": "2.7.12"
  }
 },
 "nbformat": 4,
 "nbformat_minor": 2
}
